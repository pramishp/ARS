{
 "cells": [
  {
   "cell_type": "code",
   "execution_count": 2,
   "metadata": {},
   "outputs": [],
   "source": [
    "import numpy as np\n",
    "from random import random"
   ]
  },
  {
   "cell_type": "code",
   "execution_count": 66,
   "metadata": {},
   "outputs": [],
   "source": [
    "## Rosenbrock function\n",
    "## global minimum at (x,y)=(a,a**2) where f(x,y)=0\n",
    "def rosenbrock_valley(x,y):\n",
    "    a,b = 1, 100\n",
    "    return (a-x)**2+b*(y-x**2)**2\n",
    "\n",
    "# global minimum at f(0,0) = 0\n",
    "def ackley_function(x,y):\n",
    "    first_part = -20* np.exp(-0.2*np.sqrt(0.5*(x**2+y**2)))\n",
    "    second_part = -np.exp(0.5*(np.cos(2*np.pi*x)+np.cos(2*np.pi*y)))+np.e + 20\n",
    "    return first_part+second_part\n",
    "\n",
    "# f(1,3) = 0\n",
    "def booth_function(x,y):\n",
    "    return (x+2*y-7)**2+(2*x+y-5)**2\n",
    "\n"
   ]
  },
  {
   "cell_type": "code",
   "execution_count": 67,
   "metadata": {},
   "outputs": [
    {
     "data": {
      "text/plain": [
       "0"
      ]
     },
     "execution_count": 67,
     "metadata": {},
     "output_type": "execute_result"
    }
   ],
   "source": [
    "# rosenbrock_valley(1,1) # global minimum\n",
    "# ackley_function(0,0)\n",
    "booth_function(1,3)"
   ]
  },
  {
   "cell_type": "code",
   "execution_count": 28,
   "metadata": {},
   "outputs": [],
   "source": [
    "def optimize(bounds, epochs ,f):\n",
    "    D = len(bounds) # num of decision variables\n",
    "    best_f = 1000.0\n",
    "    best_x = [None]*D\n",
    "    for i in range(epochs):\n",
    "        new_x = [bounds[d][0] + random()*(bounds[d][1] - bounds[d][0]) for d in range(D)]\n",
    "        new_f = f(new_x[0],new_x[1])\n",
    "        if new_f<best_f:\n",
    "            best_f = new_f\n",
    "            best_x = new_x\n",
    "    return {\"best_f\":best_f, \"best_x\": best_x}\n",
    "    "
   ]
  },
  {
   "cell_type": "code",
   "execution_count": 68,
   "metadata": {},
   "outputs": [
    {
     "name": "stdout",
     "output_type": "stream",
     "text": [
      "{'best_f': 0.019957787405521208, 'best_x': [0.955154670353064, 3.0930388405339677]}\n"
     ]
    }
   ],
   "source": [
    "bounds = [[-10,10],[-15,15]]\n",
    "epochs = 10000\n",
    "print(optimize(bounds, epochs, booth_function))"
   ]
  },
  {
   "cell_type": "code",
   "execution_count": null,
   "metadata": {},
   "outputs": [],
   "source": []
  },
  {
   "cell_type": "code",
   "execution_count": null,
   "metadata": {},
   "outputs": [],
   "source": []
  }
 ],
 "metadata": {
  "kernelspec": {
   "display_name": "Python 3",
   "language": "python",
   "name": "python3"
  },
  "language_info": {
   "codemirror_mode": {
    "name": "ipython",
    "version": 3
   },
   "file_extension": ".py",
   "mimetype": "text/x-python",
   "name": "python",
   "nbconvert_exporter": "python",
   "pygments_lexer": "ipython3",
   "version": "3.6.6"
  }
 },
 "nbformat": 4,
 "nbformat_minor": 2
}
